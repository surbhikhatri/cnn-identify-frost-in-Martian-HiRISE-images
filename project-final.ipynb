{
 "cells": [
  {
   "cell_type": "markdown",
   "source": [
    "Name: Surbhi Khatri\n",
    "<br>\n",
    "Github Username: surbhikhatri\n",
    "<br>\n",
    "USC ID: 9893833133\n",
    "<br>"
   ],
   "metadata": {
    "collapsed": false
   }
  },
  {
   "cell_type": "code",
   "execution_count": 1,
   "outputs": [
    {
     "name": "stderr",
     "output_type": "stream",
     "text": [
      "2023-12-10 20:53:21.927429: I tensorflow/core/util/port.cc:113] oneDNN custom operations are on. You may see slightly different numerical results due to floating-point round-off errors from different computation orders. To turn them off, set the environment variable `TF_ENABLE_ONEDNN_OPTS=0`.\n",
      "2023-12-10 20:53:21.948074: E external/local_xla/xla/stream_executor/cuda/cuda_dnn.cc:9261] Unable to register cuDNN factory: Attempting to register factory for plugin cuDNN when one has already been registered\n",
      "2023-12-10 20:53:21.948095: E external/local_xla/xla/stream_executor/cuda/cuda_fft.cc:607] Unable to register cuFFT factory: Attempting to register factory for plugin cuFFT when one has already been registered\n",
      "2023-12-10 20:53:21.948593: E external/local_xla/xla/stream_executor/cuda/cuda_blas.cc:1515] Unable to register cuBLAS factory: Attempting to register factory for plugin cuBLAS when one has already been registered\n",
      "2023-12-10 20:53:21.951975: I tensorflow/core/platform/cpu_feature_guard.cc:182] This TensorFlow binary is optimized to use available CPU instructions in performance-critical operations.\n",
      "To enable the following instructions: AVX2 AVX_VNNI FMA, in other operations, rebuild TensorFlow with the appropriate compiler flags.\n",
      "2023-12-10 20:53:22.324540: W tensorflow/compiler/tf2tensorrt/utils/py_utils.cc:38] TF-TRT Warning: Could not find TensorRT\n"
     ]
    }
   ],
   "source": [
    "from pathlib import Path\n",
    "import logging\n",
    "from tensorflow.keras import layers, models, optimizers\n",
    "from tensorflow.keras.optimizers import Adam\n",
    "from tensorflow.keras.applications import EfficientNetB0\n",
    "\n",
    "from tensorflow.keras.models import Sequential\n",
    "import numpy as np\n",
    "from sklearn.metrics import classification_report, precision_recall_fscore_support, accuracy_score\n",
    "import pandas as pd\n",
    "from PIL import Image\n",
    "import tensorflow as tf\n",
    "from tensorflow import keras\n",
    "from tensorflow.keras import layers, regularizers\n",
    "import matplotlib.pyplot as plt\n",
    "import random\n",
    "import os\n",
    "from keras import Model\n",
    "from keras.layers import Dropout, Dense, Flatten, BatchNormalization\n",
    "from keras.callbacks import EarlyStopping\n",
    "from keras.applications.vgg16 import VGG16\n",
    "from sklearn.metrics import confusion_matrix\n"
   ],
   "metadata": {
    "collapsed": false
   }
  },
  {
   "cell_type": "code",
   "execution_count": 2,
   "metadata": {
    "collapsed": false,
    "jupyter": {
     "outputs_hidden": false
    }
   },
   "outputs": [],
   "source": [
    "# Logging configuration\n",
    "logging.basicConfig(level=logging.INFO,\n",
    "                    datefmt='%H:%M:%S',\n",
    "                    format='%(asctime)s | %(levelname)-5s | %(module)-15s | %(message)s')\n",
    "\n",
    "IMAGE_SIZE = (299, 299)  # All images contained in this dataset are 299x299 (originally, to match Inception v3 input size)\n",
    "SEED = 17\n",
    "\n",
    "# Head directory containing all image subframes. Update with the relative path of your data directory\n",
    "data_head_dir = Path('./data')\n",
    "\n",
    "# Find all subframe directories\n",
    "subdirs = [Path(subdir.stem) for subdir in data_head_dir.iterdir() if subdir.is_dir()]\n",
    "src_image_ids = ['_'.join(a_path.name.split('_')[:3]) for a_path in subdirs]"
   ]
  },
  {
   "cell_type": "code",
   "execution_count": 3,
   "metadata": {
    "collapsed": false,
    "jupyter": {
     "outputs_hidden": false
    }
   },
   "outputs": [],
   "source": [
    "# Load train/val/test subframe IDs\n",
    "def load_text_ids(file_path):\n",
    "    \"\"\"Simple helper to load all lines from a text file\"\"\"\n",
    "    with open(file_path, 'r') as f:\n",
    "        lines = [line.strip() for line in f.readlines()]\n",
    "    return lines\n",
    "\n",
    "# Load the subframe names for the three data subsets\n",
    "train_ids = load_text_ids('./train_source_images.txt')\n",
    "validate_ids = load_text_ids('./val_source_images.txt')\n",
    "test_ids = load_text_ids('./test_source_images.txt')\n",
    "\n",
    "# Generate a list containing the dataset split for the matching subdirectory names\n",
    "subdir_splits = []\n",
    "for src_id in src_image_ids:\n",
    "    if src_id in train_ids:\n",
    "        subdir_splits.append('train')\n",
    "    elif src_id in validate_ids:\n",
    "        subdir_splits.append('validate')\n",
    "    elif(src_id in test_ids):\n",
    "        subdir_splits.append('test')\n",
    "    else:\n",
    "        logging.warning(f'{src_id}: Did not find designated split in train/validate/test list.')\n",
    "        subdir_splits.append(None)"
   ]
  },
  {
   "cell_type": "markdown",
   "source": [
    "*** 1 (c) Data Augmentation and Prep ***"
   ],
   "metadata": {
    "collapsed": false
   }
  },
  {
   "cell_type": "code",
   "execution_count": 4,
   "metadata": {
    "collapsed": false,
    "jupyter": {
     "outputs_hidden": false
    }
   },
   "outputs": [
    {
     "name": "stderr",
     "output_type": "stream",
     "text": [
      "2023-12-10 20:53:45.331564: I external/local_xla/xla/stream_executor/cuda/cuda_executor.cc:887] could not open file to read NUMA node: /sys/bus/pci/devices/0000:01:00.0/numa_node\n",
      "Your kernel may have been built without NUMA support.\n",
      "2023-12-10 20:53:45.392254: I external/local_xla/xla/stream_executor/cuda/cuda_executor.cc:887] could not open file to read NUMA node: /sys/bus/pci/devices/0000:01:00.0/numa_node\n",
      "Your kernel may have been built without NUMA support.\n",
      "2023-12-10 20:53:45.392287: I external/local_xla/xla/stream_executor/cuda/cuda_executor.cc:887] could not open file to read NUMA node: /sys/bus/pci/devices/0000:01:00.0/numa_node\n",
      "Your kernel may have been built without NUMA support.\n",
      "2023-12-10 20:53:45.394853: I external/local_xla/xla/stream_executor/cuda/cuda_executor.cc:887] could not open file to read NUMA node: /sys/bus/pci/devices/0000:01:00.0/numa_node\n",
      "Your kernel may have been built without NUMA support.\n",
      "2023-12-10 20:53:45.394883: I external/local_xla/xla/stream_executor/cuda/cuda_executor.cc:887] could not open file to read NUMA node: /sys/bus/pci/devices/0000:01:00.0/numa_node\n",
      "Your kernel may have been built without NUMA support.\n",
      "2023-12-10 20:53:45.394896: I external/local_xla/xla/stream_executor/cuda/cuda_executor.cc:887] could not open file to read NUMA node: /sys/bus/pci/devices/0000:01:00.0/numa_node\n",
      "Your kernel may have been built without NUMA support.\n",
      "2023-12-10 20:53:45.505446: I external/local_xla/xla/stream_executor/cuda/cuda_executor.cc:887] could not open file to read NUMA node: /sys/bus/pci/devices/0000:01:00.0/numa_node\n",
      "Your kernel may have been built without NUMA support.\n",
      "2023-12-10 20:53:45.505476: I external/local_xla/xla/stream_executor/cuda/cuda_executor.cc:887] could not open file to read NUMA node: /sys/bus/pci/devices/0000:01:00.0/numa_node\n",
      "Your kernel may have been built without NUMA support.\n",
      "2023-12-10 20:53:45.505480: I tensorflow/core/common_runtime/gpu/gpu_device.cc:2022] Could not identify NUMA node of platform GPU id 0, defaulting to 0.  Your kernel may not have been built with NUMA support.\n",
      "2023-12-10 20:53:45.505497: I external/local_xla/xla/stream_executor/cuda/cuda_executor.cc:887] could not open file to read NUMA node: /sys/bus/pci/devices/0000:01:00.0/numa_node\n",
      "Your kernel may have been built without NUMA support.\n",
      "2023-12-10 20:53:45.505508: I tensorflow/core/common_runtime/gpu/gpu_device.cc:1929] Created device /job:localhost/replica:0/task:0/device:GPU:0 with 21472 MB memory:  -> device: 0, name: NVIDIA GeForce RTX 4090, pci bus id: 0000:01:00.0, compute capability: 8.9\n"
     ]
    }
   ],
   "source": [
    "def load_and_preprocess(img_loc, label):\n",
    "\n",
    "    def _inner_function(img_loc, label):\n",
    "        img_loc_str = img_loc.numpy().decode('utf-8')\n",
    "        img = Image.open(img_loc_str).convert('RGB')\n",
    "        img = np.array(img)\n",
    "        img = tf.image.resize(img, [299, 299])\n",
    "        img = img / 255.0\n",
    "        label = 1 if label.numpy().decode('utf-8') == 'frost' else 0\n",
    "        return img, label\n",
    "\n",
    "    X, y = tf.py_function(_inner_function, [img_loc, label], [tf.float32, tf.int64])\n",
    "    X.set_shape([299, 299, 3])\n",
    "    y.set_shape([])\n",
    "    return X, y\n",
    "\n",
    "def load_and_preprocess_training(img_loc, label):\n",
    "    #### Data Augmentation ####\n",
    "    def _inner_function(img_loc, label):\n",
    "        img_loc_str = img_loc.numpy().decode('utf-8')\n",
    "        img = Image.open(img_loc_str).convert('RGB')\n",
    "        img = np.array(img)\n",
    "        img = tf.image.random_contrast(img, lower=0.8, upper=1.2)\n",
    "        img = tf.image.adjust_brightness(img, 0.2)\n",
    "        img = tf.image.random_saturation(img, lower=0.1, upper=0.2)\n",
    "        img = tf.image.resize(img, [299, 299])\n",
    "        img = img / 255.0\n",
    "        label = 1 if label.numpy().decode('utf-8') == 'frost' else 0\n",
    "        return img, label\n",
    "\n",
    "    X, y = tf.py_function(_inner_function, [img_loc, label], [tf.float32, tf.int64])\n",
    "    X.set_shape([299, 299, 3])\n",
    "    y.set_shape([])\n",
    "    return X, y\n",
    "\n",
    "def load_subdir_data(dir_path, image_size, seed=None):\n",
    "\n",
    "    \"\"\"Helper to create a TF dataset from each image subdirectory\"\"\"\n",
    "\n",
    "    # Grab only the classes that (1) we want to keep and (2) exist in this directory\n",
    "    tile_dir = dir_path / Path('tiles')\n",
    "    label_dir = dir_path /Path('labels')\n",
    "    loc_list = []\n",
    "\n",
    "    for folder in os.listdir(tile_dir):\n",
    "        if os.path.isdir(os.path.join(tile_dir, folder)):\n",
    "            for file in os.listdir(os.path.join(tile_dir, folder)):\n",
    "                if file.endswith(\".png\"):\n",
    "                    loc_list.append((os.path.join(os.path.join(tile_dir, folder), file), folder))\n",
    "\n",
    "    return loc_list\n",
    "\n",
    "# Loop over all subframes, loading each into a list\n",
    "tf_data_train, tf_data_test, tf_data_val = [], [], []\n",
    "tf_dataset_train, tf_dataset_test, tf_dataset_val = [], [], []\n",
    "\n",
    "# Update the batch and buffer size as per your model requirements\n",
    "buffer_size = 64\n",
    "batch_size = 32\n",
    "\n",
    "for subdir, split in zip(subdirs, subdir_splits):\n",
    "    full_path = data_head_dir / subdir\n",
    "    if split=='validate':\n",
    "        tf_data_val.extend(load_subdir_data(full_path, IMAGE_SIZE, SEED))\n",
    "    elif split=='train':\n",
    "        tf_data_train.extend(load_subdir_data(full_path, IMAGE_SIZE, SEED))\n",
    "    elif split=='test':\n",
    "        tf_data_test.extend(load_subdir_data(full_path, IMAGE_SIZE, SEED))\n",
    "\n",
    "\n",
    "random.shuffle(tf_data_train)\n",
    "img_list, label_list = zip(*tf_data_train)\n",
    "img_list_t = tf.convert_to_tensor(img_list)\n",
    "lb_list_t = tf.convert_to_tensor(label_list)\n",
    "\n",
    "tf_dataset_train = tf.data.Dataset.from_tensor_slices((img_list_t, lb_list_t))\n",
    "tf_dataset_train = tf_dataset_train.map(load_and_preprocess_training, num_parallel_calls=tf.data.experimental.AUTOTUNE)\n",
    "tf_dataset_train = tf_dataset_train.shuffle(buffer_size=buffer_size).batch(batch_size)\n",
    "\n",
    "random.shuffle(tf_data_val)\n",
    "img_list, label_list = zip(*tf_data_val)\n",
    "img_list_t = tf.convert_to_tensor(img_list)\n",
    "lb_list_t = tf.convert_to_tensor(label_list)\n",
    "\n",
    "tf_dataset_val = tf.data.Dataset.from_tensor_slices((img_list_t, lb_list_t))\n",
    "tf_dataset_val = tf_dataset_val.map(load_and_preprocess, num_parallel_calls=tf.data.experimental.AUTOTUNE)\n",
    "tf_dataset_val = tf_dataset_val.shuffle(buffer_size=buffer_size).batch(batch_size)\n",
    "\n",
    "random.shuffle(tf_data_test)\n",
    "img_list, label_list = zip(*tf_data_test)\n",
    "img_list_t = tf.convert_to_tensor(img_list)\n",
    "lb_list_t = tf.convert_to_tensor(label_list)\n",
    "\n",
    "tf_dataset_test = tf.data.Dataset.from_tensor_slices((img_list_t, lb_list_t))\n",
    "tf_dataset_test = tf_dataset_test.map(load_and_preprocess, num_parallel_calls=tf.data.experimental.AUTOTUNE)\n",
    "tf_dataset_test = tf_dataset_test.shuffle(buffer_size=buffer_size).batch(batch_size)"
   ]
  },
  {
   "cell_type": "code",
   "execution_count": 5,
   "metadata": {
    "collapsed": false,
    "jupyter": {
     "outputs_hidden": false
    }
   },
   "outputs": [],
   "source": [
    "comparison_table = pd.DataFrame(columns=['Model','Test Accuracy','Precision','Recall','F1'])\n"
   ]
  },
  {
   "cell_type": "markdown",
   "source": [
    "*** 1 (c) ii ***\n",
    "Training CNN + MLP"
   ],
   "metadata": {
    "collapsed": false
   }
  },
  {
   "cell_type": "code",
   "execution_count": 6,
   "metadata": {
    "collapsed": false,
    "jupyter": {
     "outputs_hidden": false
    }
   },
   "outputs": [],
   "source": [
    "# Define the 3 layer Convolution network for binary image classification\n",
    "\n",
    "# usinf Keras\n",
    "model = keras.Sequential([\n",
    "    layers.Conv2D(64, (3, 3), activation='relu', input_shape=(299, 299, 3)),\n",
    "    # input layer which 64 kernels and filter size 3 * 3 and activation function Relu\n",
    "    layers.BatchNormalization(),\n",
    "    # perform batch normalization as mentioned in the question\n",
    "    layers.MaxPooling2D((2, 2)),\n",
    "\n",
    "    layers.Conv2D(128, (3, 3), activation='relu', kernel_regularizer=regularizers.l2(0.01)),\n",
    "    # first layer which 128 kernels and filter size 3 * 3 and activation function Relu\n",
    "    # also using L2 regularization\n",
    "    layers.BatchNormalization(),\n",
    "    layers.MaxPooling2D((2, 2)),\n",
    "\n",
    "    layers.Conv2D(256, (3, 3), activation='relu', kernel_regularizer=regularizers.l2(0.01)),\n",
    "    layers.BatchNormalization(),\n",
    "\n",
    "    # flatten the last layer\n",
    "    layers.Flatten(),\n",
    "\n",
    "    layers.Dense(256, activation='relu', kernel_regularizer=regularizers.l2(0.01)),\n",
    "    layers.BatchNormalization(),\n",
    "    layers.Dropout(0.3),\n",
    "\n",
    "    # output layer has softmax layer with output of 2 neurons to classify frost or background\n",
    "    layers.Dense(2, activation='softmax')\n",
    "])"
   ]
  },
  {
   "cell_type": "code",
   "execution_count": 7,
   "metadata": {
    "collapsed": false,
    "jupyter": {
     "outputs_hidden": false
    },
    "scrolled": true
   },
   "outputs": [
    {
     "name": "stdout",
     "output_type": "stream",
     "text": [
      "Epoch 1/30\n"
     ]
    },
    {
     "name": "stderr",
     "output_type": "stream",
     "text": [
      "/home/saket/.local/lib/python3.10/site-packages/numpy/core/getlimits.py:500: UserWarning: The value of the smallest subnormal for <class 'numpy.float32'> type is zero.\n",
      "  setattr(self, word, getattr(machar, word).flat[0])\n",
      "/home/saket/.local/lib/python3.10/site-packages/numpy/core/getlimits.py:89: UserWarning: The value of the smallest subnormal for <class 'numpy.float32'> type is zero.\n",
      "  return self._float_to_str(self.smallest_subnormal)\n",
      "2023-12-10 20:54:18.848187: I external/local_xla/xla/stream_executor/cuda/cuda_dnn.cc:454] Loaded cuDNN version 8904\n",
      "2023-12-10 20:54:18.983650: I external/local_tsl/tsl/platform/default/subprocess.cc:304] Start cannot spawn child process: Permission denied\n",
      "2023-12-10 20:54:19.473231: I external/local_tsl/tsl/platform/default/subprocess.cc:304] Start cannot spawn child process: Permission denied\n",
      "2023-12-10 20:54:19.983023: I external/local_xla/xla/service/service.cc:168] XLA service 0x7f6544dee050 initialized for platform CUDA (this does not guarantee that XLA will be used). Devices:\n",
      "2023-12-10 20:54:19.983048: I external/local_xla/xla/service/service.cc:176]   StreamExecutor device (0): NVIDIA GeForce RTX 4090, Compute Capability 8.9\n",
      "2023-12-10 20:54:19.985922: I tensorflow/compiler/mlir/tensorflow/utils/dump_mlir_util.cc:269] disabling MLIR crash reproducer, set env var `MLIR_CRASH_REPRODUCER_DIRECTORY` to enable.\n",
      "WARNING: All log messages before absl::InitializeLog() is called are written to STDERR\n",
      "I0000 00:00:1702270460.037255  444948 device_compiler.h:186] Compiled cluster using XLA!  This line is logged at most once for the lifetime of the process.\n"
     ]
    },
    {
     "name": "stdout",
     "output_type": "stream",
     "text": [
      "928/928 [==============================] - 260s 275ms/step - loss: 3.3511 - accuracy: 0.8181 - val_loss: 2.0929 - val_accuracy: 0.7818\n",
      "Epoch 2/30\n",
      "928/928 [==============================] - 252s 271ms/step - loss: 1.4913 - accuracy: 0.8932 - val_loss: 1.8619 - val_accuracy: 0.6835\n",
      "Epoch 3/30\n",
      "928/928 [==============================] - 251s 270ms/step - loss: 1.1132 - accuracy: 0.9204 - val_loss: 3.5851 - val_accuracy: 0.3250\n",
      "Epoch 4/30\n",
      "928/928 [==============================] - 250s 269ms/step - loss: 0.9360 - accuracy: 0.9298 - val_loss: 7.9905 - val_accuracy: 0.3368\n",
      "Epoch 5/30\n",
      "928/928 [==============================] - 253s 272ms/step - loss: 0.7847 - accuracy: 0.9435 - val_loss: 1.5688 - val_accuracy: 0.6468\n",
      "Epoch 6/30\n",
      "928/928 [==============================] - 251s 270ms/step - loss: 0.7241 - accuracy: 0.9435 - val_loss: 0.8003 - val_accuracy: 0.8979\n",
      "Epoch 7/30\n",
      "928/928 [==============================] - 250s 269ms/step - loss: 0.6467 - accuracy: 0.9502 - val_loss: 1.1556 - val_accuracy: 0.7378\n",
      "Epoch 8/30\n",
      "928/928 [==============================] - 250s 269ms/step - loss: 0.6189 - accuracy: 0.9516 - val_loss: 0.6160 - val_accuracy: 0.9396\n",
      "Epoch 9/30\n",
      "928/928 [==============================] - 250s 269ms/step - loss: 0.5439 - accuracy: 0.9557 - val_loss: 6.0376 - val_accuracy: 0.3539\n",
      "Epoch 10/30\n",
      "928/928 [==============================] - 250s 269ms/step - loss: 0.4977 - accuracy: 0.9604 - val_loss: 1.1818 - val_accuracy: 0.7028\n",
      "Epoch 11/30\n",
      "928/928 [==============================] - 249s 268ms/step - loss: 0.4723 - accuracy: 0.9623 - val_loss: 1.5586 - val_accuracy: 0.4876\n",
      "Epoch 12/30\n",
      "928/928 [==============================] - 249s 268ms/step - loss: 0.4261 - accuracy: 0.9652 - val_loss: 5.3910 - val_accuracy: 0.3223\n",
      "Epoch 13/30\n",
      "928/928 [==============================] - 249s 268ms/step - loss: 0.4259 - accuracy: 0.9638 - val_loss: 0.4682 - val_accuracy: 0.9298\n",
      "Epoch 14/30\n",
      "928/928 [==============================] - 249s 268ms/step - loss: 0.3589 - accuracy: 0.9727 - val_loss: 1.3832 - val_accuracy: 0.5007\n",
      "Epoch 15/30\n",
      "928/928 [==============================] - 249s 268ms/step - loss: 0.3523 - accuracy: 0.9719 - val_loss: 0.4537 - val_accuracy: 0.9583\n",
      "Epoch 16/30\n",
      "928/928 [==============================] - 250s 269ms/step - loss: 0.3432 - accuracy: 0.9714 - val_loss: 0.4700 - val_accuracy: 0.9513\n",
      "Epoch 17/30\n",
      "928/928 [==============================] - 249s 268ms/step - loss: 0.3262 - accuracy: 0.9721 - val_loss: 0.4718 - val_accuracy: 0.8924\n",
      "Epoch 18/30\n",
      "928/928 [==============================] - 249s 268ms/step - loss: 0.2994 - accuracy: 0.9749 - val_loss: 2.6229 - val_accuracy: 0.3306\n",
      "Epoch 19/30\n",
      "928/928 [==============================] - 249s 268ms/step - loss: 0.2926 - accuracy: 0.9754 - val_loss: 0.5842 - val_accuracy: 0.8623\n",
      "Epoch 20/30\n",
      "928/928 [==============================] - 249s 268ms/step - loss: 0.2800 - accuracy: 0.9755 - val_loss: 1.3450 - val_accuracy: 0.5719\n",
      "Epoch 21/30\n",
      "928/928 [==============================] - 249s 268ms/step - loss: 0.2566 - accuracy: 0.9782 - val_loss: 1.6414 - val_accuracy: 0.5368\n",
      "Epoch 22/30\n",
      "928/928 [==============================] - 249s 268ms/step - loss: 0.2737 - accuracy: 0.9752 - val_loss: 0.8989 - val_accuracy: 0.6649\n"
     ]
    }
   ],
   "source": [
    "# using Adam optimazer and cross entropy for loss functions\n",
    "model.compile(optimizer=Adam(learning_rate=0.0001),\n",
    "              loss='sparse_categorical_crossentropy',\n",
    "              metrics=['accuracy'])\n",
    "\n",
    "# define early stopping as mentioned, I'm using patience of 5 epochs and keep the network parameters that have the lowest validation errors\n",
    "early_stopping = EarlyStopping(monitor='val_loss', patience=7, restore_best_weights=True)\n",
    "\n",
    "# run for 20 epochs\n",
    "history = model.fit(tf_dataset_train, epochs=30, validation_data=tf_dataset_val, callbacks=[early_stopping])"
   ]
  },
  {
   "cell_type": "code",
   "execution_count": 8,
   "metadata": {},
   "outputs": [],
   "source": [
    "count = 0\n",
    "def evaluate_accuracy(model, dataset, title, add_to_comparison):\n",
    "    predicted_labels = []\n",
    "    true_labels = []\n",
    "    for images, labels in dataset:\n",
    "        predictions = model.predict(images, verbose = 0)\n",
    "        true_labels.extend(labels.numpy())\n",
    "        predicted_labels.extend(np.argmax(predictions, axis=1))\n",
    "    print(\"\")\n",
    "    print(title)\n",
    "    print(\"Classification report\")\n",
    "    print(classification_report(true_labels, predicted_labels))\n",
    "    print(\"Confusion Matrix\")\n",
    "    print(confusion_matrix(true_labels, predicted_labels))\n",
    "    if add_to_comparison:\n",
    "        precision_test, recall_test, f1_test, _ = precision_recall_fscore_support(true_labels, predicted_labels, average='binary')\n",
    "        accuracy = accuracy_score(true_labels, predicted_labels)\n",
    "        comparison_table.loc[count] = [title, accuracy, precision_test, recall_test, f1_test]\n",
    "    print(\"\")\n",
    "    \n",
    "\n",
    "def plot_figures(model_history):\n",
    "    accuracy = model_history.history['accuracy']\n",
    "    val_accuracy = model_history.history['val_accuracy']\n",
    "    err = [1 - x for x in accuracy]\n",
    "    val_err = [1 - x for x in val_accuracy]\n",
    "    epochs = range(len(accuracy))\n",
    "    \n",
    "    plt.plot(epochs, err)\n",
    "    plt.plot(epochs, val_err)\n",
    "    plt.xlabel(\"Epochs\")\n",
    "    plt.ylabel(\"Error\")\n",
    "    plt.legend(['train_error', 'validation_error'])\n",
    "    plt.title('Training + Validation Error vs Epochs')\n",
    "    plt.show()\n"
   ]
  },
  {
   "cell_type": "markdown",
   "source": [
    "*** 1 (c) ii.Report Precision, Recall, and F1 score for your model. ***"
   ],
   "metadata": {
    "collapsed": false
   }
  },
  {
   "cell_type": "code",
   "execution_count": 9,
   "metadata": {
    "collapsed": false,
    "jupyter": {
     "outputs_hidden": false
    }
   },
   "outputs": [
    {
     "name": "stdout",
     "output_type": "stream",
     "text": [
      "\n",
      "CNN + MLP Train Data\n",
      "Classification report\n",
      "              precision    recall  f1-score   support\n",
      "\n",
      "           0       0.49      1.00      0.66     12235\n",
      "           1       1.00      0.27      0.42     17444\n",
      "\n",
      "    accuracy                           0.57     29679\n",
      "   macro avg       0.74      0.63      0.54     29679\n",
      "weighted avg       0.79      0.57      0.52     29679\n",
      "\n",
      "Confusion Matrix\n",
      "[[12234     1]\n",
      " [12742  4702]]\n",
      "\n",
      "\n",
      "CNN + MLP Test Data\n",
      "Classification report\n",
      "              precision    recall  f1-score   support\n",
      "\n",
      "           0       0.72      0.99      0.83      4418\n",
      "           1       1.00      0.79      0.88      8405\n",
      "\n",
      "    accuracy                           0.86     12823\n",
      "   macro avg       0.86      0.89      0.86     12823\n",
      "weighted avg       0.90      0.86      0.86     12823\n",
      "\n",
      "Confusion Matrix\n",
      "[[4387   31]\n",
      " [1748 6657]]\n",
      "\n",
      "\n",
      "CNN + MLP Val Data\n",
      "Classification report\n",
      "              precision    recall  f1-score   support\n",
      "\n",
      "           0       0.95      0.99      0.97      7654\n",
      "           1       0.98      0.89      0.93      3632\n",
      "\n",
      "    accuracy                           0.96     11286\n",
      "   macro avg       0.96      0.94      0.95     11286\n",
      "weighted avg       0.96      0.96      0.96     11286\n",
      "\n",
      "Confusion Matrix\n",
      "[[7577   77]\n",
      " [ 394 3238]]\n",
      "\n"
     ]
    },
    {
     "data": {
      "image/png": "[encoded data removed]",
      "text/plain": [
       "<Figure size 640x480 with 1 Axes>"
      ]
     },
     "metadata": {},
     "output_type": "display_data"
    }
   ],
   "source": [
    "evaluate_accuracy(model, tf_dataset_train, \"CNN + MLP Train Data\", False)\n",
    "evaluate_accuracy(model, tf_dataset_test, \"CNN + MLP Test Data\", True)\n",
    "evaluate_accuracy(model, tf_dataset_val, \"CNN + MLP Val Data\", False)\n",
    "plot_figures(history)\n",
    "count += 1"
   ]
  },
  {
   "cell_type": "markdown",
   "source": [
    "*** 1 (d) Transfer Learning ***"
   ],
   "metadata": {
    "collapsed": false
   }
  },
  {
   "cell_type": "markdown",
   "metadata": {
    "collapsed": false,
    "jupyter": {
     "outputs_hidden": false
    }
   },
   "source": [
    "**** EfficientNetB0 ****\n"
   ]
  },
  {
   "cell_type": "code",
   "execution_count": 37,
   "metadata": {
    "collapsed": false,
    "jupyter": {
     "outputs_hidden": false
    }
   },
   "outputs": [],
   "source": [
    "# get the pre-trained EfficientNetB0 model from Keras\n",
    "efficient_net_model = Sequential()\n",
    "\n",
    "pretrained_model = EfficientNetB0(include_top=False, input_shape=(299,299,3), pooling='avg', classes=2, \n",
    "                                  weights='imagenet')\n",
    "\n",
    "for layer in pretrained_model.layers:\n",
    "    layer.trainable=False\n",
    "\n",
    "last_out = pretrained_model.layers[-1].output\n",
    "efficient_net_model = Flatten()(last_out)\n",
    "efficient_net_model = Dense(512, activation='relu')(efficient_net_model)\n",
    "efficient_net_model = BatchNormalization()(efficient_net_model)\n",
    "efficient_net_model = Dropout(0.3)(efficient_net_model)\n",
    "efficient_net_model = Dense(2, activation='softmax')(efficient_net_model)\n",
    "efficient_net_model = Model(pretrained_model.input, efficient_net_model)\n",
    "efficient_net_model.compile(optimizer=Adam(learning_rate=1e-2), loss='sparse_categorical_crossentropy', metrics=['accuracy'])\n",
    "# same optimizer and loss function\n"
   ]
  },
  {
   "cell_type": "code",
   "execution_count": null,
   "metadata": {
    "collapsed": false,
    "jupyter": {
     "outputs_hidden": false
    }
   },
   "outputs": [],
   "source": [
    "efficient_net_model.summary()"
   ]
  },
  {
   "cell_type": "code",
   "execution_count": 39,
   "metadata": {
    "collapsed": false,
    "jupyter": {
     "outputs_hidden": false
    }
   },
   "outputs": [],
   "source": [
    "early_stopping = EarlyStopping(monitor='val_loss', patience=10, mode=\"min\", restore_best_weights=True, start_from_epoch=70)"
   ]
  },
  {
   "cell_type": "code",
   "execution_count": 40,
   "metadata": {
    "collapsed": false,
    "jupyter": {
     "outputs_hidden": false
    },
    "pycharm": {
     "is_executing": true
    }
   },
   "outputs": [
    {
     "name": "stdout",
     "output_type": "stream",
     "text": [
      "Epoch 1/30\n",
      "928/928 [==============================] - 207s 220ms/step - loss: 0.7294 - accuracy: 0.5498 - val_loss: 0.7666 - val_accuracy: 0.3218\n",
      "Epoch 2/30\n",
      "928/928 [==============================] - 203s 219ms/step - loss: 0.6834 - accuracy: 0.5812 - val_loss: 0.7867 - val_accuracy: 0.3218\n",
      "Epoch 3/30\n",
      "928/928 [==============================] - 203s 218ms/step - loss: 0.6820 - accuracy: 0.5836 - val_loss: 0.7561 - val_accuracy: 0.3218\n",
      "Epoch 4/30\n",
      "928/928 [==============================] - 203s 219ms/step - loss: 0.6824 - accuracy: 0.5831 - val_loss: 0.6989 - val_accuracy: 0.3218\n",
      "Epoch 5/30\n",
      "928/928 [==============================] - 203s 218ms/step - loss: 0.6815 - accuracy: 0.5837 - val_loss: 0.8003 - val_accuracy: 0.3218\n",
      "Epoch 6/30\n",
      "928/928 [==============================] - 203s 219ms/step - loss: 0.6840 - accuracy: 0.5782 - val_loss: 0.7962 - val_accuracy: 0.3218\n",
      "Epoch 7/30\n",
      "928/928 [==============================] - 203s 218ms/step - loss: 0.6846 - accuracy: 0.5765 - val_loss: 0.7734 - val_accuracy: 0.3218\n",
      "Epoch 8/30\n",
      "928/928 [==============================] - 203s 218ms/step - loss: 0.6832 - accuracy: 0.5763 - val_loss: 0.6562 - val_accuracy: 0.6782\n",
      "Epoch 9/30\n",
      "928/928 [==============================] - 203s 219ms/step - loss: 0.6840 - accuracy: 0.5800 - val_loss: 0.7956 - val_accuracy: 0.3218\n",
      "Epoch 10/30\n",
      "928/928 [==============================] - 203s 218ms/step - loss: 0.6847 - accuracy: 0.5753 - val_loss: 0.6999 - val_accuracy: 0.3218\n",
      "Epoch 11/30\n",
      "928/928 [==============================] - 203s 219ms/step - loss: 0.6843 - accuracy: 0.5796 - val_loss: 0.8099 - val_accuracy: 0.3218\n",
      "Epoch 12/30\n",
      "928/928 [==============================] - 202s 218ms/step - loss: 0.6835 - accuracy: 0.5805 - val_loss: 0.6837 - val_accuracy: 0.6782\n",
      "Epoch 13/30\n",
      "928/928 [==============================] - 203s 219ms/step - loss: 0.6847 - accuracy: 0.5794 - val_loss: 0.7352 - val_accuracy: 0.3218\n",
      "Epoch 14/30\n",
      "928/928 [==============================] - 203s 218ms/step - loss: 0.6841 - accuracy: 0.5776 - val_loss: 0.8020 - val_accuracy: 0.3218\n",
      "Epoch 15/30\n",
      "928/928 [==============================] - 204s 219ms/step - loss: 0.6837 - accuracy: 0.5791 - val_loss: 0.8079 - val_accuracy: 0.3218\n",
      "Epoch 16/30\n",
      "928/928 [==============================] - 203s 218ms/step - loss: 0.6836 - accuracy: 0.5767 - val_loss: 0.7544 - val_accuracy: 0.3218\n",
      "Epoch 17/30\n",
      "928/928 [==============================] - 203s 218ms/step - loss: 0.6845 - accuracy: 0.5755 - val_loss: 0.7728 - val_accuracy: 0.3218\n",
      "Epoch 18/30\n",
      "928/928 [==============================] - 204s 219ms/step - loss: 0.6847 - accuracy: 0.5783 - val_loss: 0.7761 - val_accuracy: 0.3218\n",
      "Epoch 19/30\n",
      "928/928 [==============================] - 203s 218ms/step - loss: 0.6832 - accuracy: 0.5822 - val_loss: 0.7612 - val_accuracy: 0.3218\n",
      "Epoch 20/30\n",
      "928/928 [==============================] - 216s 233ms/step - loss: 0.6838 - accuracy: 0.5809 - val_loss: 0.7947 - val_accuracy: 0.3218\n",
      "Epoch 21/30\n",
      "928/928 [==============================] - 203s 218ms/step - loss: 0.6834 - accuracy: 0.5795 - val_loss: 0.8073 - val_accuracy: 0.3218\n",
      "Epoch 22/30\n",
      "928/928 [==============================] - 204s 219ms/step - loss: 0.6852 - accuracy: 0.5770 - val_loss: 0.7798 - val_accuracy: 0.3218\n",
      "Epoch 23/30\n",
      "928/928 [==============================] - 203s 219ms/step - loss: 0.6829 - accuracy: 0.5800 - val_loss: 0.8118 - val_accuracy: 0.3218\n",
      "Epoch 24/30\n",
      "928/928 [==============================] - 202s 218ms/step - loss: 0.6837 - accuracy: 0.5821 - val_loss: 0.8596 - val_accuracy: 0.3218\n",
      "Epoch 25/30\n",
      "928/928 [==============================] - 204s 219ms/step - loss: 0.6854 - accuracy: 0.5769 - val_loss: 0.7953 - val_accuracy: 0.3218\n",
      "Epoch 26/30\n",
      "928/928 [==============================] - 203s 219ms/step - loss: 0.6832 - accuracy: 0.5840 - val_loss: 0.8049 - val_accuracy: 0.3218\n",
      "Epoch 27/30\n",
      "928/928 [==============================] - 203s 218ms/step - loss: 0.6829 - accuracy: 0.5821 - val_loss: 0.7558 - val_accuracy: 0.3218\n",
      "Epoch 28/30\n",
      "928/928 [==============================] - 203s 219ms/step - loss: 0.6845 - accuracy: 0.5783 - val_loss: 0.7598 - val_accuracy: 0.3218\n",
      "Epoch 29/30\n",
      "928/928 [==============================] - 204s 219ms/step - loss: 0.6831 - accuracy: 0.5814 - val_loss: 0.7908 - val_accuracy: 0.3218\n",
      "Epoch 30/30\n",
      "928/928 [==============================] - 203s 218ms/step - loss: 0.6830 - accuracy: 0.5820 - val_loss: 0.7831 - val_accuracy: 0.3218\n"
     ]
    }
   ],
   "source": [
    "history1 = efficient_net_model.fit(tf_dataset_train, validation_data=tf_dataset_val, epochs=30, callbacks=[early_stopping])"
   ]
  },
  {
   "cell_type": "code",
   "execution_count": 41,
   "metadata": {
    "collapsed": false,
    "jupyter": {
     "outputs_hidden": false
    }
   },
   "outputs": [
    {
     "name": "stdout",
     "output_type": "stream",
     "text": [
      "\n",
      "EfficientNetB0 Train Data\n",
      "Classification report\n",
      "              precision    recall  f1-score   support\n",
      "\n",
      "           0       0.00      0.00      0.00     12235\n",
      "           1       0.59      1.00      0.74     17444\n",
      "\n",
      "    accuracy                           0.59     29679\n",
      "   macro avg       0.29      0.50      0.37     29679\n",
      "weighted avg       0.35      0.59      0.44     29679\n",
      "\n",
      "Confusion Matrix\n",
      "[[    0 12235]\n",
      " [    0 17444]]\n",
      "\n"
     ]
    },
    {
     "name": "stderr",
     "output_type": "stream",
     "text": [
      "/home/saket/.local/lib/python3.10/site-packages/sklearn/metrics/_classification.py:1471: UndefinedMetricWarning: Precision and F-score are ill-defined and being set to 0.0 in labels with no predicted samples. Use `zero_division` parameter to control this behavior.\n",
      "  _warn_prf(average, modifier, msg_start, len(result))\n",
      "/home/saket/.local/lib/python3.10/site-packages/sklearn/metrics/_classification.py:1471: UndefinedMetricWarning: Precision and F-score are ill-defined and being set to 0.0 in labels with no predicted samples. Use `zero_division` parameter to control this behavior.\n",
      "  _warn_prf(average, modifier, msg_start, len(result))\n",
      "/home/saket/.local/lib/python3.10/site-packages/sklearn/metrics/_classification.py:1471: UndefinedMetricWarning: Precision and F-score are ill-defined and being set to 0.0 in labels with no predicted samples. Use `zero_division` parameter to control this behavior.\n",
      "  _warn_prf(average, modifier, msg_start, len(result))\n"
     ]
    },
    {
     "name": "stdout",
     "output_type": "stream",
     "text": [
      "\n",
      "EfficientNetB0 Test Data\n",
      "Classification report\n",
      "              precision    recall  f1-score   support\n",
      "\n",
      "           0       0.00      0.00      0.00      4418\n",
      "           1       0.66      1.00      0.79      8405\n",
      "\n",
      "    accuracy                           0.66     12823\n",
      "   macro avg       0.33      0.50      0.40     12823\n",
      "weighted avg       0.43      0.66      0.52     12823\n",
      "\n",
      "Confusion Matrix\n",
      "[[   0 4418]\n",
      " [   0 8405]]\n",
      "\n"
     ]
    },
    {
     "name": "stderr",
     "output_type": "stream",
     "text": [
      "/home/saket/.local/lib/python3.10/site-packages/sklearn/metrics/_classification.py:1471: UndefinedMetricWarning: Precision and F-score are ill-defined and being set to 0.0 in labels with no predicted samples. Use `zero_division` parameter to control this behavior.\n",
      "  _warn_prf(average, modifier, msg_start, len(result))\n",
      "/home/saket/.local/lib/python3.10/site-packages/sklearn/metrics/_classification.py:1471: UndefinedMetricWarning: Precision and F-score are ill-defined and being set to 0.0 in labels with no predicted samples. Use `zero_division` parameter to control this behavior.\n",
      "  _warn_prf(average, modifier, msg_start, len(result))\n",
      "/home/saket/.local/lib/python3.10/site-packages/sklearn/metrics/_classification.py:1471: UndefinedMetricWarning: Precision and F-score are ill-defined and being set to 0.0 in labels with no predicted samples. Use `zero_division` parameter to control this behavior.\n",
      "  _warn_prf(average, modifier, msg_start, len(result))\n"
     ]
    },
    {
     "name": "stdout",
     "output_type": "stream",
     "text": [
      "\n",
      "EfficientNetB0 Val Data\n",
      "Classification report\n",
      "              precision    recall  f1-score   support\n",
      "\n",
      "           0       0.00      0.00      0.00      7654\n",
      "           1       0.32      1.00      0.49      3632\n",
      "\n",
      "    accuracy                           0.32     11286\n",
      "   macro avg       0.16      0.50      0.24     11286\n",
      "weighted avg       0.10      0.32      0.16     11286\n",
      "\n",
      "Confusion Matrix\n",
      "[[   0 7654]\n",
      " [   0 3632]]\n",
      "\n"
     ]
    },
    {
     "name": "stderr",
     "output_type": "stream",
     "text": [
      "/home/saket/.local/lib/python3.10/site-packages/sklearn/metrics/_classification.py:1471: UndefinedMetricWarning: Precision and F-score are ill-defined and being set to 0.0 in labels with no predicted samples. Use `zero_division` parameter to control this behavior.\n",
      "  _warn_prf(average, modifier, msg_start, len(result))\n",
      "/home/saket/.local/lib/python3.10/site-packages/sklearn/metrics/_classification.py:1471: UndefinedMetricWarning: Precision and F-score are ill-defined and being set to 0.0 in labels with no predicted samples. Use `zero_division` parameter to control this behavior.\n",
      "  _warn_prf(average, modifier, msg_start, len(result))\n",
      "/home/saket/.local/lib/python3.10/site-packages/sklearn/metrics/_classification.py:1471: UndefinedMetricWarning: Precision and F-score are ill-defined and being set to 0.0 in labels with no predicted samples. Use `zero_division` parameter to control this behavior.\n",
      "  _warn_prf(average, modifier, msg_start, len(result))\n"
     ]
    },
    {
     "data": {
      "image/png": "[encoded data removed]",
      "text/plain": [
       "<Figure size 640x480 with 1 Axes>"
      ]
     },
     "metadata": {},
     "output_type": "display_data"
    }
   ],
   "source": [
    "evaluate_accuracy(efficient_net_model, tf_dataset_train, \"EfficientNetB0 Train Data\", False)\n",
    "evaluate_accuracy(efficient_net_model, tf_dataset_test, \"EfficientNetB0 Test Data\", True)\n",
    "evaluate_accuracy(efficient_net_model, tf_dataset_val, \"EfficientNetB0 Val Data\", False)\n",
    "plot_figures(history1)\n",
    "count += 1"
   ]
  },
  {
   "cell_type": "markdown",
   "metadata": {
    "collapsed": false,
    "jupyter": {
     "outputs_hidden": false
    }
   },
   "source": [
    "**** ResNet50 ****"
   ]
  },
  {
   "cell_type": "code",
   "execution_count": 42,
   "metadata": {
    "collapsed": false,
    "jupyter": {
     "outputs_hidden": false
    },
    "pycharm": {
     "is_executing": true
    }
   },
   "outputs": [],
   "source": [
    "resnet_model = Sequential()\n",
    "\n",
    "pretrained_model = tf.keras.applications.ResNet50(include_top=False,\n",
    "                   input_shape=(299,299,3),\n",
    "                   pooling='avg',classes=2,\n",
    "                   weights='imagenet')\n",
    "\n",
    "for layer in pretrained_model.layers:\n",
    "    layer.trainable=False\n",
    "\n",
    "resnet_model.add(pretrained_model)\n",
    "resnet_model.add(Flatten())\n",
    "resnet_model.add(Dense(256, activation='relu'))\n",
    "resnet_model.add(BatchNormalization())\n",
    "resnet_model.add(Dropout(0.3))\n",
    "resnet_model.add(Dense(2, activation='softmax'))\n",
    "resnet_model.compile(optimizer=Adam(learning_rate=0.01), loss='sparse_categorical_crossentropy', metrics=['accuracy'])"
   ]
  },
  {
   "cell_type": "code",
   "execution_count": 43,
   "metadata": {
    "collapsed": false,
    "jupyter": {
     "outputs_hidden": false
    },
    "pycharm": {
     "is_executing": true
    }
   },
   "outputs": [
    {
     "name": "stdout",
     "output_type": "stream",
     "text": [
      "Model: \"sequential_13\"\n",
      "_________________________________________________________________\n",
      " Layer (type)                Output Shape              Param #   \n",
      "=================================================================\n",
      " resnet50 (Functional)       (None, 2048)              23587712  \n",
      "                                                                 \n",
      " flatten_10 (Flatten)        (None, 2048)              0         \n",
      "                                                                 \n",
      " dense_18 (Dense)            (None, 256)               524544    \n",
      "                                                                 \n",
      " batch_normalization_12 (Ba  (None, 256)               1024      \n",
      " tchNormalization)                                               \n",
      "                                                                 \n",
      " dropout_9 (Dropout)         (None, 256)               0         \n",
      "                                                                 \n",
      " dense_19 (Dense)            (None, 2)                 514       \n",
      "                                                                 \n",
      "=================================================================\n",
      "Total params: 24113794 (91.99 MB)\n",
      "Trainable params: 525570 (2.00 MB)\n",
      "Non-trainable params: 23588224 (89.98 MB)\n",
      "_________________________________________________________________\n"
     ]
    }
   ],
   "source": [
    "resnet_model.summary()"
   ]
  },
  {
   "cell_type": "code",
   "execution_count": 44,
   "metadata": {
    "collapsed": false,
    "jupyter": {
     "outputs_hidden": false
    },
    "pycharm": {
     "is_executing": true
    }
   },
   "outputs": [
    {
     "name": "stdout",
     "output_type": "stream",
     "text": [
      "Epoch 1/20\n",
      "928/928 [==============================] - 222s 236ms/step - loss: 0.4173 - accuracy: 0.8046 - val_loss: 1.4702 - val_accuracy: 0.4888\n",
      "Epoch 2/20\n",
      "928/928 [==============================] - 219s 235ms/step - loss: 0.3677 - accuracy: 0.8302 - val_loss: 4.9640 - val_accuracy: 0.3260\n",
      "Epoch 3/20\n",
      "928/928 [==============================] - 218s 235ms/step - loss: 0.3491 - accuracy: 0.8401 - val_loss: 10.4571 - val_accuracy: 0.3218\n",
      "Epoch 4/20\n",
      "928/928 [==============================] - 218s 235ms/step - loss: 0.3442 - accuracy: 0.8422 - val_loss: 3.6753 - val_accuracy: 0.3347\n",
      "Epoch 5/20\n",
      "928/928 [==============================] - 218s 234ms/step - loss: 0.3340 - accuracy: 0.8488 - val_loss: 6.1726 - val_accuracy: 0.3241\n",
      "Epoch 6/20\n",
      "928/928 [==============================] - 218s 235ms/step - loss: 0.3283 - accuracy: 0.8517 - val_loss: 4.6595 - val_accuracy: 0.3267\n",
      "Epoch 7/20\n",
      "928/928 [==============================] - 219s 235ms/step - loss: 0.3246 - accuracy: 0.8521 - val_loss: 0.7916 - val_accuracy: 0.7381\n",
      "Epoch 8/20\n",
      "928/928 [==============================] - 219s 235ms/step - loss: 0.3221 - accuracy: 0.8542 - val_loss: 0.7282 - val_accuracy: 0.7540\n",
      "Epoch 9/20\n",
      "928/928 [==============================] - 219s 236ms/step - loss: 0.3171 - accuracy: 0.8567 - val_loss: 8.6978 - val_accuracy: 0.3220\n",
      "Epoch 10/20\n",
      "928/928 [==============================] - 218s 235ms/step - loss: 0.3155 - accuracy: 0.8582 - val_loss: 4.4517 - val_accuracy: 0.3286\n",
      "Epoch 11/20\n",
      "928/928 [==============================] - 219s 235ms/step - loss: 0.3138 - accuracy: 0.8590 - val_loss: 3.3330 - val_accuracy: 0.3569\n",
      "Epoch 12/20\n",
      "928/928 [==============================] - 218s 235ms/step - loss: 0.3089 - accuracy: 0.8592 - val_loss: 4.0900 - val_accuracy: 0.3406\n",
      "Epoch 13/20\n",
      "928/928 [==============================] - 218s 235ms/step - loss: 0.3100 - accuracy: 0.8591 - val_loss: 1.2944 - val_accuracy: 0.6153\n",
      "Epoch 14/20\n",
      "928/928 [==============================] - 219s 236ms/step - loss: 0.3032 - accuracy: 0.8633 - val_loss: 4.6930 - val_accuracy: 0.3274\n",
      "Epoch 15/20\n",
      "928/928 [==============================] - 219s 235ms/step - loss: 0.3054 - accuracy: 0.8632 - val_loss: 5.7345 - val_accuracy: 0.3247\n",
      "Epoch 16/20\n",
      "928/928 [==============================] - 218s 235ms/step - loss: 0.3048 - accuracy: 0.8640 - val_loss: 2.5402 - val_accuracy: 0.4225\n",
      "Epoch 17/20\n",
      "928/928 [==============================] - 219s 236ms/step - loss: 0.3028 - accuracy: 0.8634 - val_loss: 9.8856 - val_accuracy: 0.3218\n",
      "Epoch 18/20\n",
      "928/928 [==============================] - 219s 235ms/step - loss: 0.3037 - accuracy: 0.8631 - val_loss: 3.8960 - val_accuracy: 0.3391\n"
     ]
    }
   ],
   "source": [
    "early_stopping = EarlyStopping(monitor='val_loss', patience=10, restore_best_weights=True)\n",
    "\n",
    "history2 = resnet_model.fit(tf_dataset_train, validation_data=tf_dataset_val, epochs=20, callbacks=[early_stopping])\n"
   ]
  },
  {
   "cell_type": "code",
   "execution_count": 45,
   "metadata": {
    "collapsed": false,
    "jupyter": {
     "outputs_hidden": false
    }
   },
   "outputs": [
    {
     "name": "stdout",
     "output_type": "stream",
     "text": [
      "\n",
      "Resnet Model Train Data\n",
      "Classification report\n",
      "              precision    recall  f1-score   support\n",
      "\n",
      "           0       0.59      0.99      0.74     12235\n",
      "           1       0.99      0.51      0.67     17444\n",
      "\n",
      "    accuracy                           0.71     29679\n",
      "   macro avg       0.79      0.75      0.70     29679\n",
      "weighted avg       0.82      0.71      0.70     29679\n",
      "\n",
      "Confusion Matrix\n",
      "[[12158    77]\n",
      " [ 8579  8865]]\n",
      "\n",
      "\n",
      "Resnet Model Test Data\n",
      "Classification report\n",
      "              precision    recall  f1-score   support\n",
      "\n",
      "           0       0.78      0.90      0.83      4418\n",
      "           1       0.94      0.87      0.90      8405\n",
      "\n",
      "    accuracy                           0.88     12823\n",
      "   macro avg       0.86      0.88      0.87     12823\n",
      "weighted avg       0.88      0.88      0.88     12823\n",
      "\n",
      "Confusion Matrix\n",
      "[[3958  460]\n",
      " [1132 7273]]\n",
      "\n",
      "\n",
      "Resnet Model Val Data\n",
      "Classification report\n",
      "              precision    recall  f1-score   support\n",
      "\n",
      "           0       0.97      0.66      0.78      7654\n",
      "           1       0.57      0.95      0.71      3632\n",
      "\n",
      "    accuracy                           0.75     11286\n",
      "   macro avg       0.77      0.81      0.75     11286\n",
      "weighted avg       0.84      0.75      0.76     11286\n",
      "\n",
      "Confusion Matrix\n",
      "[[5053 2601]\n",
      " [ 174 3458]]\n",
      "\n"
     ]
    },
    {
     "data": {
      "image/png": "[encoded data removed]",
      "text/plain": [
       "<Figure size 640x480 with 1 Axes>"
      ]
     },
     "metadata": {},
     "output_type": "display_data"
    }
   ],
   "source": [
    "evaluate_accuracy(resnet_model, tf_dataset_train, \"Resnet Model Train Data\", False)\n",
    "evaluate_accuracy(resnet_model, tf_dataset_test, \"Resnet Model Test Data\", True)\n",
    "evaluate_accuracy(resnet_model, tf_dataset_val, \"Resnet Model Val Data\", False)\n",
    "plot_figures(history2)\n",
    "count += 1"
   ]
  },
  {
   "cell_type": "markdown",
   "metadata": {
    "collapsed": false,
    "jupyter": {
     "outputs_hidden": false
    }
   },
   "source": [
    "**** VGG16 ****\n"
   ]
  },
  {
   "cell_type": "code",
   "execution_count": 46,
   "metadata": {
    "collapsed": false,
    "jupyter": {
     "outputs_hidden": false
    },
    "pycharm": {
     "is_executing": true
    }
   },
   "outputs": [],
   "source": [
    "base_model = VGG16(weights='imagenet', include_top=False, input_shape=(299, 299, 3))\n",
    "\n",
    "# Freeze all layers in the base model\n",
    "for layer in base_model.layers:\n",
    "    layer.trainable = False\n",
    "vgg16_model = Sequential()\n",
    "\n",
    "vgg16_model.add(base_model)\n",
    "vgg16_model.add(Flatten())\n",
    "vgg16_model.add(Dense(256, activation='relu'))\n",
    "vgg16_model.add(BatchNormalization())\n",
    "vgg16_model.add(Dropout(0.3))\n",
    "vgg16_model.add(Dense(2, activation='softmax'))\n",
    "vgg16_model.compile(optimizer='adam', loss='sparse_categorical_crossentropy', metrics=['accuracy'])\n",
    "\n"
   ]
  },
  {
   "cell_type": "code",
   "execution_count": 47,
   "metadata": {
    "collapsed": false,
    "jupyter": {
     "outputs_hidden": false
    },
    "pycharm": {
     "is_executing": true
    }
   },
   "outputs": [
    {
     "name": "stdout",
     "output_type": "stream",
     "text": [
      "Model: \"sequential_14\"\n",
      "_________________________________________________________________\n",
      " Layer (type)                Output Shape              Param #   \n",
      "=================================================================\n",
      " vgg16 (Functional)          (None, 9, 9, 512)         14714688  \n",
      "                                                                 \n",
      " flatten_11 (Flatten)        (None, 41472)             0         \n",
      "                                                                 \n",
      " dense_20 (Dense)            (None, 256)               10617088  \n",
      "                                                                 \n",
      " batch_normalization_13 (Ba  (None, 256)               1024      \n",
      " tchNormalization)                                               \n",
      "                                                                 \n",
      " dropout_10 (Dropout)        (None, 256)               0         \n",
      "                                                                 \n",
      " dense_21 (Dense)            (None, 2)                 514       \n",
      "                                                                 \n",
      "=================================================================\n",
      "Total params: 25333314 (96.64 MB)\n",
      "Trainable params: 10618114 (40.50 MB)\n",
      "Non-trainable params: 14715200 (56.13 MB)\n",
      "_________________________________________________________________\n"
     ]
    }
   ],
   "source": [
    "vgg16_model.summary()"
   ]
  },
  {
   "cell_type": "code",
   "execution_count": 48,
   "metadata": {
    "collapsed": false,
    "jupyter": {
     "outputs_hidden": false
    },
    "pycharm": {
     "is_executing": true
    }
   },
   "outputs": [
    {
     "name": "stdout",
     "output_type": "stream",
     "text": [
      "Epoch 1/20\n",
      "928/928 [==============================] - 256s 274ms/step - loss: 0.2397 - accuracy: 0.9017 - val_loss: 1.0311 - val_accuracy: 0.7157\n",
      "Epoch 2/20\n",
      "928/928 [==============================] - 254s 273ms/step - loss: 0.1605 - accuracy: 0.9353 - val_loss: 1.1654 - val_accuracy: 0.6933\n",
      "Epoch 3/20\n",
      "928/928 [==============================] - 254s 273ms/step - loss: 0.1407 - accuracy: 0.9448 - val_loss: 1.0878 - val_accuracy: 0.7192\n",
      "Epoch 4/20\n",
      "928/928 [==============================] - 254s 273ms/step - loss: 0.1303 - accuracy: 0.9484 - val_loss: 1.8491 - val_accuracy: 0.6038\n",
      "Epoch 5/20\n",
      "928/928 [==============================] - 253s 272ms/step - loss: 0.1189 - accuracy: 0.9528 - val_loss: 2.0682 - val_accuracy: 0.6139\n",
      "Epoch 6/20\n",
      "928/928 [==============================] - 253s 273ms/step - loss: 0.1165 - accuracy: 0.9538 - val_loss: 2.1650 - val_accuracy: 0.6286\n",
      "Epoch 7/20\n",
      "928/928 [==============================] - 255s 274ms/step - loss: 0.1047 - accuracy: 0.9584 - val_loss: 0.8528 - val_accuracy: 0.7944\n",
      "Epoch 8/20\n",
      "928/928 [==============================] - 254s 273ms/step - loss: 0.1002 - accuracy: 0.9602 - val_loss: 1.4938 - val_accuracy: 0.7082\n",
      "Epoch 9/20\n",
      "928/928 [==============================] - 253s 272ms/step - loss: 0.0953 - accuracy: 0.9626 - val_loss: 0.6055 - val_accuracy: 0.8396\n",
      "Epoch 10/20\n",
      "928/928 [==============================] - 254s 273ms/step - loss: 0.0955 - accuracy: 0.9617 - val_loss: 2.3041 - val_accuracy: 0.6190\n",
      "Epoch 11/20\n",
      "928/928 [==============================] - 254s 273ms/step - loss: 0.0868 - accuracy: 0.9651 - val_loss: 0.8775 - val_accuracy: 0.8029\n",
      "Epoch 12/20\n",
      "928/928 [==============================] - 253s 272ms/step - loss: 0.0856 - accuracy: 0.9680 - val_loss: 1.4943 - val_accuracy: 0.7350\n",
      "Epoch 13/20\n",
      "928/928 [==============================] - 253s 273ms/step - loss: 0.0850 - accuracy: 0.9660 - val_loss: 1.2715 - val_accuracy: 0.7582\n",
      "Epoch 14/20\n",
      "928/928 [==============================] - 255s 274ms/step - loss: 0.0776 - accuracy: 0.9692 - val_loss: 0.8682 - val_accuracy: 0.8038\n",
      "Epoch 15/20\n",
      "928/928 [==============================] - 253s 273ms/step - loss: 0.0801 - accuracy: 0.9687 - val_loss: 0.9233 - val_accuracy: 0.8107\n",
      "Epoch 16/20\n",
      "928/928 [==============================] - 253s 273ms/step - loss: 0.0726 - accuracy: 0.9710 - val_loss: 0.9799 - val_accuracy: 0.7990\n",
      "Epoch 17/20\n",
      "928/928 [==============================] - 254s 274ms/step - loss: 0.0722 - accuracy: 0.9711 - val_loss: 0.7377 - val_accuracy: 0.8392\n",
      "Epoch 18/20\n",
      "928/928 [==============================] - 254s 273ms/step - loss: 0.0688 - accuracy: 0.9738 - val_loss: 1.3923 - val_accuracy: 0.7749\n",
      "Epoch 19/20\n",
      "928/928 [==============================] - 254s 273ms/step - loss: 0.0730 - accuracy: 0.9716 - val_loss: 0.9493 - val_accuracy: 0.8023\n"
     ]
    }
   ],
   "source": [
    "# Train the model using the augmented dataset\n",
    "early_stopping = EarlyStopping(monitor='val_loss', patience=10, restore_best_weights=True)\n",
    "\n",
    "history3 = vgg16_model.fit(tf_dataset_train, validation_data=tf_dataset_val, epochs=20, callbacks=[early_stopping])\n"
   ]
  },
  {
   "cell_type": "code",
   "execution_count": 49,
   "metadata": {
    "collapsed": false,
    "jupyter": {
     "outputs_hidden": false
    }
   },
   "outputs": [
    {
     "name": "stdout",
     "output_type": "stream",
     "text": [
      "\n",
      "VGG16 Model Train Data\n",
      "Classification report\n",
      "              precision    recall  f1-score   support\n",
      "\n",
      "           0       0.92      1.00      0.95     12235\n",
      "           1       1.00      0.94      0.97     17444\n",
      "\n",
      "    accuracy                           0.96     29679\n",
      "   macro avg       0.96      0.97      0.96     29679\n",
      "weighted avg       0.96      0.96      0.96     29679\n",
      "\n",
      "Confusion Matrix\n",
      "[[12190    45]\n",
      " [ 1121 16323]]\n",
      "\n",
      "\n",
      "VGG16 Model Test Data\n",
      "Classification report\n",
      "              precision    recall  f1-score   support\n",
      "\n",
      "           0       0.80      0.99      0.89      4418\n",
      "           1       0.99      0.87      0.93      8405\n",
      "\n",
      "    accuracy                           0.91     12823\n",
      "   macro avg       0.90      0.93      0.91     12823\n",
      "weighted avg       0.93      0.91      0.91     12823\n",
      "\n",
      "Confusion Matrix\n",
      "[[4373   45]\n",
      " [1078 7327]]\n",
      "\n",
      "\n",
      "VGG16 Model Val Data\n",
      "Classification report\n",
      "              precision    recall  f1-score   support\n",
      "\n",
      "           0       0.95      0.80      0.87      7654\n",
      "           1       0.69      0.92      0.79      3632\n",
      "\n",
      "    accuracy                           0.84     11286\n",
      "   macro avg       0.82      0.86      0.83     11286\n",
      "weighted avg       0.87      0.84      0.84     11286\n",
      "\n",
      "Confusion Matrix\n",
      "[[6133 1521]\n",
      " [ 289 3343]]\n",
      "\n"
     ]
    },
    {
     "data": {
      "image/png": "[encoded data removed]",
      "text/plain": [
       "<Figure size 640x480 with 1 Axes>"
      ]
     },
     "metadata": {},
     "output_type": "display_data"
    }
   ],
   "source": [
    "evaluate_accuracy(vgg16_model, tf_dataset_train, \"VGG16 Model Train Data\", False)\n",
    "evaluate_accuracy(vgg16_model, tf_dataset_test, \"VGG16 Model Test Data\", True)\n",
    "evaluate_accuracy(vgg16_model, tf_dataset_val, \"VGG16 Model Val Data\", False)\n",
    "plot_figures(history3)"
   ]
  },
  {
   "cell_type": "markdown",
   "metadata": {
    "collapsed": false,
    "jupyter": {
     "outputs_hidden": false
    }
   },
   "source": [
    "**** Compare all ****\n"
   ]
  },
  {
   "cell_type": "code",
   "execution_count": 50,
   "metadata": {
    "collapsed": false,
    "jupyter": {
     "outputs_hidden": false
    }
   },
   "outputs": [
    {
     "name": "stdout",
     "output_type": "stream",
     "text": [
      "                      Model  Test Accuracy  Precision    Recall        F1\n",
      "0       CNN + MLP Test Data       0.861265   0.995365  0.792029  0.882131\n",
      "1  EfficientNetB0 Test Data       0.655463   0.655463  1.000000  0.791879\n",
      "2    Resnet Model Test Data       0.875848   0.940515  0.865318  0.901351\n",
      "3     VGG16 Model Test Data       0.912423   0.993896  0.871743  0.928820\n"
     ]
    }
   ],
   "source": [
    "print(comparison_table)"
   ]
  },
  {
   "cell_type": "markdown",
   "metadata": {
    "collapsed": false,
    "jupyter": {
     "outputs_hidden": false
    }
   },
   "source": [
    "*** plot testing error for all models ***"
   ]
  },
  {
   "cell_type": "code",
   "execution_count": 51,
   "metadata": {
    "collapsed": false,
    "jupyter": {
     "outputs_hidden": false
    }
   },
   "outputs": [
    {
     "data": {
      "image/png": "[encoded data removed]",
      "text/plain": [
       "<Figure size 640x480 with 1 Axes>"
      ]
     },
     "metadata": {},
     "output_type": "display_data"
    }
   ],
   "source": [
    "import matplotlib.pyplot as plt\n",
    "\n",
    "# Function to plot training and validation curves\n",
    "def plot_all():\n",
    "    plt.plot(history.history['accuracy'], label='CNN + MLP Accuracy')\n",
    "    plt.plot(history1.history['accuracy'], label='EfficientNetB0 Accuracy')\n",
    "    plt.plot(history2.history['accuracy'], label='ResNet Accuracy')\n",
    "    plt.plot(history3.history['accuracy'], label='VGG16 Accuracy')\n",
    "\n",
    "    plt.xlabel(\"Epochs\")\n",
    "    plt.ylabel(\"Accuracy\")\n",
    "    plt.title('Accuracy All Models vs Epochs')\n",
    "    plt.legend()\n",
    "    plt.show()\n",
    "\n",
    "plot_all()\n"
   ]
  },
  {
   "cell_type": "markdown",
   "source": [
    "*** Explanation ***\n",
    "1. For my models, VGG16 and Resnet have  higher accuracy than CNN + MLP which was expected as it has been trained on fairly larger dataset and might have better tuning parameters\n",
    "2. CNN + MLP also performs comparably to other models because it's fully trained on my required use-case and dataset.\n",
    "3. EfficientNetB0 is surprisingly not performing as well as it should, I tried a couple of pnc but I believe it's underfit and getting affected by the class imbalance."
   ],
   "metadata": {
    "collapsed": false
   }
  },
  {
   "cell_type": "markdown",
   "source": [
    "**** Note:\n",
    "1. My macbook was not able to use the GPU therefore I trained the models using my friends PC.\n",
    "2. Therefore, I'm just submitting whatever last output I got, but it has a issue with precision being 0 for class 0, I checked Piazza a lot of students are facing the same issue.\n",
    "3. My accuracy for Efficient ResnetNet was not improving at all, I tried all kinds of data augmentation, sampling and learning rate permutations.\n",
    "4. I'm using tf.image to augment the data by contrast, brightness and saturation, these gave me the best result."
   ],
   "metadata": {
    "collapsed": false
   }
  }
 ],
 "metadata": {
  "kernelspec": {
   "display_name": "Python 3 (ipykernel)",
   "language": "python",
   "name": "python3"
  },
  "language_info": {
   "codemirror_mode": {
    "name": "ipython",
    "version": 3
   },
   "file_extension": ".py",
   "mimetype": "text/x-python",
   "name": "python",
   "nbconvert_exporter": "python",
   "pygments_lexer": "ipython3",
   "version": "3.10.12"
  }
 },
 "nbformat": 4,
 "nbformat_minor": 4
}
